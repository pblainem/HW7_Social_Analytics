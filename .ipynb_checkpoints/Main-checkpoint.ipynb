{
 "cells": [
  {
   "cell_type": "code",
   "execution_count": 58,
   "metadata": {},
   "outputs": [],
   "source": [
    "# imports\n",
    "import pandas as pd\n",
    "import numpy as np\n",
    "import matplotlib.pyplot as plt\n",
    "import tweepy\n",
    "import time\n",
    "import json\n",
    "import os\n",
    "from pprint import pprint\n",
    "import random\n",
    "from twitter_config import consumer_key, consumer_key_secret, access_token, access_token_secret\n",
    "import datetime\n",
    "\n",
    "now = datetime.datetime.now()\n",
    "nowDay = f\"({now.month}/{now.day}/{now.year})\"\n",
    "\n",
    "from vaderSentiment.vaderSentiment import SentimentIntensityAnalyzer\n",
    "analyzer = SentimentIntensityAnalyzer()\n",
    "\n",
    "auth = tweepy.OAuthHandler(consumer_key, consumer_key_secret)\n",
    "auth.set_access_token(access_token, access_token_secret)\n",
    "api = tweepy.API(auth, parser=tweepy.parsers.JSONParser())"
   ]
  },
  {
   "cell_type": "code",
   "execution_count": 65,
   "metadata": {},
   "outputs": [],
   "source": [
    "def sentiment_analysis(target_user):\n",
    "\n",
    "    # Create a counter for viewing every 100 tweets\n",
    "    counter = 0\n",
    "\n",
    "    # Loop through 100 tweets\n",
    "    tweetsPer = 100\n",
    "    pages = int(tweetsPer / 20)\n",
    "    for x in range(1, pages+1):\n",
    "\n",
    "        # Get all tweets from target user\n",
    "        public_tweets = api.user_timeline(target_user, page=x)\n",
    "\n",
    "        # Loop through all tweets\n",
    "        for tweet in public_tweets:\n",
    "            text = tweet['text']\n",
    "            \n",
    "            # Store all tweet times into the array\n",
    "            results = analyzer.polarity_scores(text)\n",
    "            tweet_times.append(tweet[\"created_at\"])\n",
    "            tweet_texts.append(text)\n",
    "            tweet_pos.append(results['pos'])\n",
    "            tweet_neg.append(results['neg'])\n",
    "            tweet_neu.append(results['neu'])\n",
    "            tweet_com.append(results['compound'])\n",
    "            target_list.append(target_user)\n",
    "            \n",
    "            \n",
    "\n",
    "            counter += 1\n",
    "\n",
    "            # Print tweets for preview\n",
    "            if counter % 100 == 0:\n",
    "                print(tweet[\"created_at\"])\n",
    "    \n",
    "    \n"
   ]
  },
  {
   "cell_type": "code",
   "execution_count": 67,
   "metadata": {},
   "outputs": [
    {
     "name": "stdout",
     "output_type": "stream",
     "text": [
      "Tue Jun 19 13:38:02 +0000 2018\n",
      "Mon Jun 25 09:48:04 +0000 2018\n",
      "Mon Jun 25 10:55:12 +0000 2018\n",
      "Mon Jun 25 16:43:09 +0000 2018\n",
      "Mon Jun 25 09:16:03 +0000 2018\n"
     ]
    }
   ],
   "source": [
    "    # Create array to record all date-times of tweets\n",
    "\n",
    "newsOutlets = ['BBC', 'CBSNews', 'CNN', 'FoxNews', 'NYTimes']    \n",
    "\n",
    "    \n",
    "    tweet_times = []\n",
    "    tweet_texts = []\n",
    "    tweet_pos = []\n",
    "    tweet_neg = []\n",
    "    tweet_neu = []\n",
    "    tweet_com= []\n",
    "    target_list= []\n",
    "\n",
    "    count = 0\n",
    "    \n",
    "for channel in newsOutlets:\n",
    "        count = count+1\n",
    "        sentiment_analysis(channel)\n",
    "\n"
   ]
  },
  {
   "cell_type": "code",
   "execution_count": 69,
   "metadata": {},
   "outputs": [
    {
     "name": "stdout",
     "output_type": "stream",
     "text": [
      "Tweets = 500\n",
      "Times = 500\n",
      "Compound = 500\n",
      "Positive = 500\n",
      "Negative = 500\n",
      "Neutral = 500\n"
     ]
    }
   ],
   "source": [
    "# Length of Lists\n",
    "print(f'Tweets = {len(tweet_texts)}')\n",
    "print(f'Times = {len(tweet_times)}')\n",
    "print(f'Compound = {len(tweet_com)}')\n",
    "print(f'Positive = {len(tweet_pos)}')\n",
    "print(f'Negative = {len(tweet_neg)}')\n",
    "print(f'Neutral = {len(tweet_neu)}')"
   ]
  },
  {
   "cell_type": "code",
   "execution_count": 70,
   "metadata": {},
   "outputs": [
    {
     "data": {
      "text/html": [
       "<div>\n",
       "<style scoped>\n",
       "    .dataframe tbody tr th:only-of-type {\n",
       "        vertical-align: middle;\n",
       "    }\n",
       "\n",
       "    .dataframe tbody tr th {\n",
       "        vertical-align: top;\n",
       "    }\n",
       "\n",
       "    .dataframe thead th {\n",
       "        text-align: right;\n",
       "    }\n",
       "</style>\n",
       "<table border=\"1\" class=\"dataframe\">\n",
       "  <thead>\n",
       "    <tr style=\"text-align: right;\">\n",
       "      <th></th>\n",
       "      <th>Compound</th>\n",
       "      <th>Date</th>\n",
       "      <th>Negitive</th>\n",
       "      <th>Neutral</th>\n",
       "      <th>Outlet</th>\n",
       "      <th>Positive</th>\n",
       "      <th>Tweet</th>\n",
       "    </tr>\n",
       "  </thead>\n",
       "  <tbody>\n",
       "    <tr>\n",
       "      <th>0</th>\n",
       "      <td>0.3612</td>\n",
       "      <td>Mon Jun 25 18:03:04 +0000 2018</td>\n",
       "      <td>0.000</td>\n",
       "      <td>0.815</td>\n",
       "      <td>BBC</td>\n",
       "      <td>0.185</td>\n",
       "      <td>✨ These women are ditching their straighteners...</td>\n",
       "    </tr>\n",
       "    <tr>\n",
       "      <th>1</th>\n",
       "      <td>0.0000</td>\n",
       "      <td>Mon Jun 25 17:31:08 +0000 2018</td>\n",
       "      <td>0.000</td>\n",
       "      <td>1.000</td>\n",
       "      <td>BBC</td>\n",
       "      <td>0.000</td>\n",
       "      <td>Two teams of junior doctors from teaching hosp...</td>\n",
       "    </tr>\n",
       "    <tr>\n",
       "      <th>2</th>\n",
       "      <td>0.2732</td>\n",
       "      <td>Mon Jun 25 16:02:03 +0000 2018</td>\n",
       "      <td>0.000</td>\n",
       "      <td>0.769</td>\n",
       "      <td>BBC</td>\n",
       "      <td>0.231</td>\n",
       "      <td>🙌😂 Well, that escalated quickly.\\n#HearHer #Li...</td>\n",
       "    </tr>\n",
       "    <tr>\n",
       "      <th>3</th>\n",
       "      <td>-0.5524</td>\n",
       "      <td>Mon Jun 25 15:01:34 +0000 2018</td>\n",
       "      <td>0.229</td>\n",
       "      <td>0.771</td>\n",
       "      <td>BBC</td>\n",
       "      <td>0.000</td>\n",
       "      <td>RT @BBCTwo: SO much tension between Louis and ...</td>\n",
       "    </tr>\n",
       "    <tr>\n",
       "      <th>4</th>\n",
       "      <td>0.3182</td>\n",
       "      <td>Mon Jun 25 14:57:32 +0000 2018</td>\n",
       "      <td>0.000</td>\n",
       "      <td>0.839</td>\n",
       "      <td>BBC</td>\n",
       "      <td>0.161</td>\n",
       "      <td>RT @BBCTwo: brb just gonna pop inside for some...</td>\n",
       "    </tr>\n",
       "  </tbody>\n",
       "</table>\n",
       "</div>"
      ],
      "text/plain": [
       "   Compound                            Date  Negitive  Neutral Outlet  \\\n",
       "0    0.3612  Mon Jun 25 18:03:04 +0000 2018     0.000    0.815    BBC   \n",
       "1    0.0000  Mon Jun 25 17:31:08 +0000 2018     0.000    1.000    BBC   \n",
       "2    0.2732  Mon Jun 25 16:02:03 +0000 2018     0.000    0.769    BBC   \n",
       "3   -0.5524  Mon Jun 25 15:01:34 +0000 2018     0.229    0.771    BBC   \n",
       "4    0.3182  Mon Jun 25 14:57:32 +0000 2018     0.000    0.839    BBC   \n",
       "\n",
       "   Positive                                              Tweet  \n",
       "0     0.185  ✨ These women are ditching their straighteners...  \n",
       "1     0.000  Two teams of junior doctors from teaching hosp...  \n",
       "2     0.231  🙌😂 Well, that escalated quickly.\\n#HearHer #Li...  \n",
       "3     0.000  RT @BBCTwo: SO much tension between Louis and ...  \n",
       "4     0.161  RT @BBCTwo: brb just gonna pop inside for some...  "
      ]
     },
     "execution_count": 70,
     "metadata": {},
     "output_type": "execute_result"
    }
   ],
   "source": [
    "# Organize lists into dataframe\n",
    "tweetDF = pd.DataFrame({\n",
    "    'Tweet' : tweet_texts,\n",
    "    'Date' : tweet_times,\n",
    "    'Compound' : tweet_com,\n",
    "    'Positive' : tweet_pos,\n",
    "    'Negitive' : tweet_neg,\n",
    "    'Neutral' : tweet_neu,\n",
    "    'Outlet': target_list    \n",
    "})\n",
    "\n",
    "\n",
    "tweetDF.head(5)\n"
   ]
  },
  {
   "cell_type": "code",
   "execution_count": 71,
   "metadata": {},
   "outputs": [],
   "source": [
    "# Save Dateframe as CSV\n",
    "file_name = os.path.join('CSV_output', 'Tweet_CSV.csv')\n",
    "tweetDF.to_csv(file_name, sep='\\t', encoding='utf-8')\n",
    "\n"
   ]
  },
  {
   "cell_type": "code",
   "execution_count": 99,
   "metadata": {},
   "outputs": [
    {
     "data": {
      "image/png": "[encoded data removed]",
      "text/plain": [
       "<matplotlib.figure.Figure at 0x1d57707ab38>"
      ]
     },
     "metadata": {},
     "output_type": "display_data"
    }
   ],
   "source": [
    "# Scatter Plot\n",
    "# Filter columns to data we want for scatter plot\n",
    "redDF = tweetDF.filter(items = ['Date', 'Compound', 'Outlet'])\n",
    "redDF.head()\n",
    "\n",
    "# df.loc[df['column_name'] == some_value]\n",
    "\n",
    "# Filter rows to create a DF for each newsOutlet\n",
    "BBC_DF = redDF.loc[tweetDF['Outlet'] == 'BBC']\n",
    "CNN_DF = redDF.loc[tweetDF['Outlet'] == 'CNN']\n",
    "CBS_DF = redDF.loc[tweetDF['Outlet'] == 'CBSNews']\n",
    "FOX_DF = redDF.loc[tweetDF['Outlet'] == 'FoxNews']\n",
    "NYT_DF = redDF.loc[tweetDF['Outlet'] == 'NYTimes']\n",
    "\n",
    "\n",
    "# x values for scatter\n",
    "x = np.arange(100, 0,-1)\n",
    "\n",
    "# for y in ysets:\n",
    "#     plt.scatter(x, y, color=next(colors))\n",
    "plt.scatter(x, BBC_DF['Compound'], c = 'skyblue', edgecolors = 'black')\n",
    "plt.scatter(x, CNN_DF['Compound'], c = 'red', edgecolors = 'black')\n",
    "plt.scatter(x, CBS_DF['Compound'], c = 'green', edgecolors = 'black')\n",
    "plt.scatter(x, FOX_DF['Compound'], c = 'blue', edgecolors = 'black')\n",
    "plt.scatter(x, NYT_DF['Compound'], c = 'gold', edgecolors = 'black')\n",
    "\n",
    "plt.title(f\"Sentiment Analysis of Media Tweets {nowDay}\")\n",
    "plt.xlabel(\"Tweets Ago\")\n",
    "plt.ylabel(\"Tweet Polarity\")\n",
    "\n",
    "xmin = -5\n",
    "xlim = 105\n",
    "ymin = -1\n",
    "ylim = 1\n",
    "plt.xlim(xlim,xmin)\n",
    "plt.ylim(ymin,ylim)\n",
    "\n",
    "horLines = np.arange(ymin,ylim+.25, .25)\n",
    "verLines = np.arange(xlim-5,xmin, -20)\n",
    "plt.hlines(horLines, xmin, xlim, alpha=0.2)\n",
    "plt.vlines(verLines, ymin, ylim, alpha=0.2)\n",
    "\n",
    "\n",
    "outputfile = os.path.join('Images', 'Scatter.png')\n",
    "plt.savefig(outputfile)"
   ]
  },
  {
   "cell_type": "code",
   "execution_count": 135,
   "metadata": {},
   "outputs": [
    {
     "data": {
      "image/png": "[encoded data removed]",
      "text/plain": [
       "<matplotlib.figure.Figure at 0x1d578d22710>"
      ]
     },
     "metadata": {},
     "output_type": "display_data"
    }
   ],
   "source": [
    "# Bar Plot\n",
    "\n",
    "BBC_mean = BBC_DF['Compound'].mean()\n",
    "CNN_mean = CNN_DF['Compound'].mean()\n",
    "CBS_mean = CBS_DF['Compound'].mean()\n",
    "FOX_mean = FOX_DF['Compound'].mean()\n",
    "NYT_mean = NYT_DF['Compound'].mean()\n",
    "\n",
    "scoreDict = {\n",
    "    'BBC': BBC_mean,\n",
    "    'CNN': CNN_mean,\n",
    "    'CBS': CBS_mean,\n",
    "    'FOX': FOX_mean,\n",
    "    'NYT': NYT_mean\n",
    "}\n",
    "\n",
    "colors = ['skyblue', 'red', 'green', 'blue', 'gold']\n",
    "\n",
    "fig = plt.bar(range(len(scoreDict)), list(scoreDict.values()), align='center', color = colors, width =1)\n",
    "fig = plt.xticks(range(len(scoreDict)), list(scoreDict.keys()))\n",
    "\n",
    "fig = plt.title(f\"Overall Media Sentiment Based on Twitter {nowDay}\")\n",
    "fig = plt.ylabel(\"Tweet Polarity\")\n",
    "\n",
    "outputfile = os.path.join('Images', 'Bar.png')\n",
    "plt.savefig(outputfile)\n",
    "\n"
   ]
  }
 ],
 "metadata": {
  "kernelspec": {
   "display_name": "Python 3",
   "language": "python",
   "name": "python3"
  },
  "language_info": {
   "codemirror_mode": {
    "name": "ipython",
    "version": 3
   },
   "file_extension": ".py",
   "mimetype": "text/x-python",
   "name": "python",
   "nbconvert_exporter": "python",
   "pygments_lexer": "ipython3",
   "version": "3.6.4"
  }
 },
 "nbformat": 4,
 "nbformat_minor": 2
}
